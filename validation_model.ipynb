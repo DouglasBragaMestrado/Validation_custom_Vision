{
 "cells": [
  {
   "cell_type": "markdown",
   "metadata": {},
   "source": [
    "Analise "
   ]
  },
  {
   "cell_type": "code",
   "execution_count": 74,
   "metadata": {},
   "outputs": [],
   "source": [
    "# Libs\n",
    "\n",
    "from sklearn import metrics\n",
    "import requests\n",
    "import os\n",
    "import base64\n",
    "import pandas as pd\n",
    "import sys\n",
    "\n",
    "import numpy as np\n",
    "import matplotlib.pyplot as plt\n",
    "import itertools\n",
    "import time\n",
    "\n",
    "from sklearn.metrics import confusion_matrix"
   ]
  },
  {
   "cell_type": "code",
   "execution_count": 75,
   "metadata": {},
   "outputs": [],
   "source": [
    "def plot_confusion_matrix(cm, classes,\n",
    "                          normalize=False,\n",
    "                          title='Confusion matrix',\n",
    "                          cmap=plt.cm.Blues):\n",
    "    \"\"\"\n",
    "    This function prints and plots the confusion matrix.\n",
    "    Normalization can be applied by setting `normalize=True`.\n",
    "    \"\"\"\n",
    "    plt.imshow(cm, interpolation='nearest', cmap=cmap)\n",
    "    plt.title(title)\n",
    "    plt.colorbar()\n",
    "    tick_marks = np.arange(len(classes))\n",
    "    plt.xticks(tick_marks, classes, rotation=45)\n",
    "    plt.yticks(tick_marks, classes)\n",
    "\n",
    "    if normalize:\n",
    "        cm = cm.astype('float') / cm.sum(axis=1)[:, np.newaxis]\n",
    "        print(\"Normalized confusion matrix\")\n",
    "    else:\n",
    "        print('Confusion matrix, without normalization')\n",
    "\n",
    "    print(cm)\n",
    "\n",
    "    thresh = cm.max() / 2\n",
    "    for i, j in itertools.product(range(cm.shape[0]), range(cm.shape[1])):\n",
    "        plt.text(j, i, cm[i, j],\n",
    "                 horizontalalignment=\"center\",\n",
    "                 color=\"white\" if cm[i, j] > thresh else \"black\")\n",
    "\n",
    "    plt.tight_layout()\n",
    "    plt.ylabel('True label')\n",
    "    plt.xlabel('Predicted label')"
   ]
  },
  {
   "cell_type": "code",
   "execution_count": 76,
   "metadata": {},
   "outputs": [],
   "source": [
    "MAX_Iterations = 200000\n",
    "\n",
    "#Access Azure Custom Vision\n",
    "#You can find this information in the tab Performance and Prediction URL.\n",
    "\n",
    "endpoint = \"\"\n",
    "key = \"\""
   ]
  },
  {
   "cell_type": "code",
   "execution_count": 77,
   "metadata": {},
   "outputs": [
    {
     "name": "stdout",
     "output_type": "stream",
     "text": [
      "Reading input csv with images paths and labels\n",
      "file: ./file_saida.csv\n",
      "      Unnamed: 0  data/1833.jpg    Healthy\n",
      "0              0  data/1569.jpg  Malignant\n",
      "1              1  data/1636.jpg  Malignant\n",
      "2              2  data/1451.jpg    Healthy\n",
      "3              3  data/1168.jpg    Healthy\n",
      "4              4   data/531.jpg    Healthy\n",
      "...          ...            ...        ...\n",
      "1291        1291    data/71.jpg    Healthy\n",
      "1292        1292  data/1867.jpg  Malignant\n",
      "1293        1293   data/539.jpg    Healthy\n",
      "1294        1294  data/1249.jpg    Healthy\n",
      "1295        1295  data/1337.jpg  Malignant\n",
      "\n",
      "[1296 rows x 3 columns]\n"
     ]
    }
   ],
   "source": [
    "print(\"Reading input csv with images paths and labels\")\n",
    "filePath = \"./C-NMC_test_prelim_phase_data_labels.csv"\"\n",
    "print(\"file: {0}\".format(filePath))\n",
    "df = pd.read_csv(filePath)\n",
    "print(df)"
   ]
  },
  {
   "cell_type": "code",
   "execution_count": 78,
   "metadata": {},
   "outputs": [
    {
     "name": "stdout",
     "output_type": "stream",
     "text": [
      "processing interation 0, elapsed time 0.005002260208129883\n",
      "Error opening file or sending request\n",
      "Inappropriate argument value (of correct type).\n"
     ]
    },
    {
     "name": "stderr",
     "output_type": "stream",
     "text": [
      "C:\\Users\\User\\AppData\\Local\\Temp\\ipykernel_8692\\3314882902.py:12: FutureWarning: Series.__getitem__ treating keys as positions is deprecated. In a future version, integer keys will always be treated as labels (consistent with DataFrame behavior). To access a value by position, use `ser.iloc[pos]`\n",
      "  path = row[0]\n",
      "C:\\Users\\User\\AppData\\Local\\Temp\\ipykernel_8692\\3314882902.py:13: FutureWarning: Series.__getitem__ treating keys as positions is deprecated. In a future version, integer keys will always be treated as labels (consistent with DataFrame behavior). To access a value by position, use `ser.iloc[pos]`\n",
      "  label = row[1]\n"
     ]
    },
    {
     "ename": "AttributeError",
     "evalue": "'ValueError' object has no attribute 'message'",
     "output_type": "error",
     "traceback": [
      "\u001b[1;31m---------------------------------------------------------------------------\u001b[0m",
      "\u001b[1;31mValueError\u001b[0m                                Traceback (most recent call last)",
      "\u001b[1;32mc:\\Mestrado\\NoteBook\\F1-Score\\evalWebservice.ipynb Cell 6\u001b[0m line \u001b[0;36m1\n\u001b[0;32m     <a href='vscode-notebook-cell:/c%3A/Mestrado/NoteBook/F1-Score/evalWebservice.ipynb#W6sZmlsZQ%3D%3D?line=14'>15</a>\u001b[0m \u001b[39mtry\u001b[39;00m:\n\u001b[1;32m---> <a href='vscode-notebook-cell:/c%3A/Mestrado/NoteBook/F1-Score/evalWebservice.ipynb#W6sZmlsZQ%3D%3D?line=15'>16</a>\u001b[0m     data \u001b[39m=\u001b[39m \u001b[39mopen\u001b[39;49m(path, \u001b[39m'\u001b[39;49m\u001b[39mrb\u001b[39;49m\u001b[39m'\u001b[39;49m)\u001b[39m.\u001b[39mread()\n\u001b[0;32m     <a href='vscode-notebook-cell:/c%3A/Mestrado/NoteBook/F1-Score/evalWebservice.ipynb#W6sZmlsZQ%3D%3D?line=16'>17</a>\u001b[0m     start_time_req \u001b[39m=\u001b[39m time\u001b[39m.\u001b[39mtime()\n",
      "File \u001b[1;32m~\\AppData\\Roaming\\Python\\Python311\\site-packages\\IPython\\core\\interactiveshell.py:280\u001b[0m, in \u001b[0;36m_modified_open\u001b[1;34m(file, *args, **kwargs)\u001b[0m\n\u001b[0;32m    279\u001b[0m \u001b[39mif\u001b[39;00m file \u001b[39min\u001b[39;00m {\u001b[39m0\u001b[39m, \u001b[39m1\u001b[39m, \u001b[39m2\u001b[39m}:\n\u001b[1;32m--> 280\u001b[0m     \u001b[39mraise\u001b[39;00m \u001b[39mValueError\u001b[39;00m(\n\u001b[0;32m    281\u001b[0m         \u001b[39mf\u001b[39m\u001b[39m\"\u001b[39m\u001b[39mIPython won\u001b[39m\u001b[39m'\u001b[39m\u001b[39mt let you open fd=\u001b[39m\u001b[39m{\u001b[39;00mfile\u001b[39m}\u001b[39;00m\u001b[39m by default \u001b[39m\u001b[39m\"\u001b[39m\n\u001b[0;32m    282\u001b[0m         \u001b[39m\"\u001b[39m\u001b[39mas it is likely to crash IPython. If you know what you are doing, \u001b[39m\u001b[39m\"\u001b[39m\n\u001b[0;32m    283\u001b[0m         \u001b[39m\"\u001b[39m\u001b[39myou can use builtins\u001b[39m\u001b[39m'\u001b[39m\u001b[39m open.\u001b[39m\u001b[39m\"\u001b[39m\n\u001b[0;32m    284\u001b[0m     )\n\u001b[0;32m    286\u001b[0m \u001b[39mreturn\u001b[39;00m io_open(file, \u001b[39m*\u001b[39margs, \u001b[39m*\u001b[39m\u001b[39m*\u001b[39mkwargs)\n",
      "\u001b[1;31mValueError\u001b[0m: IPython won't let you open fd=0 by default as it is likely to crash IPython. If you know what you are doing, you can use builtins' open.",
      "\nDuring handling of the above exception, another exception occurred:\n",
      "\u001b[1;31mAttributeError\u001b[0m                            Traceback (most recent call last)",
      "\u001b[1;32mc:\\Mestrado\\NoteBook\\F1-Score\\evalWebservice.ipynb Cell 6\u001b[0m line \u001b[0;36m2\n\u001b[0;32m     <a href='vscode-notebook-cell:/c%3A/Mestrado/NoteBook/F1-Score/evalWebservice.ipynb#W6sZmlsZQ%3D%3D?line=25'>26</a>\u001b[0m     \u001b[39mprint\u001b[39m(\u001b[39m\"\u001b[39m\u001b[39mError opening file or sending request\u001b[39m\u001b[39m\"\u001b[39m)\n\u001b[0;32m     <a href='vscode-notebook-cell:/c%3A/Mestrado/NoteBook/F1-Score/evalWebservice.ipynb#W6sZmlsZQ%3D%3D?line=26'>27</a>\u001b[0m     \u001b[39mprint\u001b[39m(e\u001b[39m.\u001b[39m\u001b[39m__doc__\u001b[39m)\n\u001b[1;32m---> <a href='vscode-notebook-cell:/c%3A/Mestrado/NoteBook/F1-Score/evalWebservice.ipynb#W6sZmlsZQ%3D%3D?line=27'>28</a>\u001b[0m     \u001b[39mprint\u001b[39m(e\u001b[39m.\u001b[39;49mmessage)\n\u001b[0;32m     <a href='vscode-notebook-cell:/c%3A/Mestrado/NoteBook/F1-Score/evalWebservice.ipynb#W6sZmlsZQ%3D%3D?line=28'>29</a>\u001b[0m \u001b[39mif\u001b[39;00m resp \u001b[39m!=\u001b[39m \u001b[39mNone\u001b[39;00m \u001b[39mand\u001b[39;00m resp\u001b[39m.\u001b[39mstatus_code \u001b[39m==\u001b[39m requests\u001b[39m.\u001b[39mcodes\u001b[39m.\u001b[39mok:\n\u001b[0;32m     <a href='vscode-notebook-cell:/c%3A/Mestrado/NoteBook/F1-Score/evalWebservice.ipynb#W6sZmlsZQ%3D%3D?line=29'>30</a>\u001b[0m     jsonResponse \u001b[39m=\u001b[39m resp\u001b[39m.\u001b[39mjson()\n",
      "\u001b[1;31mAttributeError\u001b[0m: 'ValueError' object has no attribute 'message'"
     ]
    }
   ],
   "source": [
    "\n",
    "y_true = []\n",
    "y_pred = []\n",
    "\n",
    "start_time = time.time()\n",
    "for index, row in df.iterrows():\n",
    "    if index > MAX_Iterations:\n",
    "        break\n",
    "    if index % 10 == 0:\n",
    "        elapsed_time = time.time() - start_time\n",
    "        print(\"processing interation {0}, elapsed time {1}\".format(\n",
    "            index, elapsed_time))\n",
    "    path = row[0]\n",
    "    label = row[1]\n",
    "    resp = None\n",
    "    try:\n",
    "        data = open(path, 'rb').read()\n",
    "        start_time_req = time.time()\n",
    "        resp = requests.post(endpoint,\n",
    "                             data=data,\n",
    "                             headers={'Content-Type': 'application/octet-stream', 'Prediction-Key': key})\n",
    "        elapsed_time_req = time.time() - start_time\n",
    "        if index % 10 == 0:\n",
    "            print(\"elapsed time  for req # {0} is {1}\".format(\n",
    "                index, elapsed_time_req))\n",
    "    except Exception as e:\n",
    "        print(\"Error opening file or sending request\")\n",
    "        print(e.__doc__)\n",
    "        print(e.message)\n",
    "    if resp != None and resp.status_code == requests.codes.ok:\n",
    "        jsonResponse = resp.json()\n",
    "        try:\n",
    "            predictedClass = jsonResponse[\"predictions\"][0][\"tagName\"]\n",
    "            predictedProb = jsonResponse[\"predictions\"][0][\"probability\"]\n",
    "            y_true.append(label)\n",
    "            y_pred.append(predictedClass)\n",
    "        except Exception as e:\n",
    "            print(\"Error parsing json response\")\n",
    "            print(e.__doc__)\n",
    "            print(e.message)\n",
    "    else:\n",
    "        print(\"Got status code {0} for image '{1}' label {2}\".format(\n",
    "            resp.status_code, path, label))\n",
    "\n",
    "print(metrics.classification_report(y_true, y_pred))"
   ]
  },
  {
   "cell_type": "code",
   "execution_count": null,
   "metadata": {},
   "outputs": [],
   "source": [
    "# Compute confusion matrix\n",
    "cnf_matrix = confusion_matrix(y_true, y_pred)\n",
    "np.set_printoptions(precision=2)\n",
    "\n",
    "# Plot non-normalized confusion matrix\n",
    "plt.figure()\n",
    "class_names = sorted(set(y_true))\n",
    "plot_confusion_matrix(cnf_matrix, classes=class_names,\n",
    "                      title='Confusion matrix, without normalization')\n",
    "\n",
    "# Plot normalized confusion matrix\n",
    "plt.figure()\n",
    "plot_confusion_matrix(cnf_matrix, classes=class_names, normalize=True,\n",
    "                      title='Normalized confusion matrix')\n",
    "\n",
    "plt.show()\n",
    "\n",
    "#input(\"All done. Press any key...\")"
   ]
  }
 ],
 "metadata": {
  "kernelspec": {
   "display_name": "Python 3",
   "language": "python",
   "name": "python3"
  },
  "language_info": {
   "codemirror_mode": {
    "name": "ipython",
    "version": 3
   },
   "file_extension": ".py",
   "mimetype": "text/x-python",
   "name": "python",
   "nbconvert_exporter": "python",
   "pygments_lexer": "ipython3",
   "version": "3.11.5"
  },
  "orig_nbformat": 4
 },
 "nbformat": 4,
 "nbformat_minor": 2
}
